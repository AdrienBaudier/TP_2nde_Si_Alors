{
 "cells": [
  {
   "cell_type": "markdown",
   "metadata": {},
   "source": [
    "## **Instructions conditionnelles Si...Alors...Sinon**"
   ]
  },
  {
   "cell_type": "markdown",
   "metadata": {},
   "source": [
    "Pour créer des programmes plus complexes, il est parfois nécessaire de faire des **choix** qui dépendent de nos variables.\n",
    "On a alors besoin de tester des **conditions** qui peuvent être très simple (e.g. *Le nombre est il positif ?*) ou bien plus compliquées (e.g. *La phrase contient-elle le mot \"hier\" ?*).\n",
    "En fonction du résultat, on éxecute une séquence d'instruction spécifique. On peut alors résumer la situation par le schéma en pseudo-code suivant :\n",
    "\n",
    "![pseudo code instruction conditionnelle](./images/PCSiAlors.png)\n",
    "\n",
    "Le code suivant est un exemple d'une instruction Si Alors en Python. Le programme permet de déterminer si un nombre est positif ou négatif. Executez le avec plusieurs nombres pour oberver son fonctionnement."
   ]
  },
  {
   "cell_type": "code",
   "execution_count": null,
   "metadata": {
    "slideshow": {
     "slide_type": "-"
    }
   },
   "outputs": [],
   "source": [
    "nombre = int(input(\"Entrez un nombre : \"))\n",
    "if(nombre >= 0):\n",
    "    print(\"Le nombre \",nombre,\" est positif.\")         # Ces deux lignes sont exécutées lorque 'nombre' est plus grand que 0\n",
    "    print(\"Sa valeur absolue est : \", nombre)\n",
    "else:\n",
    "    print(\"Le nombre \",nombre,\" est négatif.\")         # Ces lignes sont exécutées dans les autres cas, lorque 'nombre' est strictement plus petit que 0\n",
    "    print(\"Sa valeur absolue est : \", -nombre)"
   ]
  },
  {
   "cell_type": "markdown",
   "metadata": {},
   "source": [
    "La syntaxe python utilise l'instruction `if` à laquelle on ajoute la **condition** que l'on souhaite tester entre **parenthèses**. Ici, on cherche à savoir si le nombre est plus grand que 0, on teste donc `nombre >= 0`.\n",
    "Cette ligne se termine par le signe **`:`**\n",
    "\n",
    "`if(nombre >= 0):`"
   ]
  },
  {
   "cell_type": "markdown",
   "metadata": {},
   "source": [
    "Dans le cas où le nombre entré est plus grand que 0, Python exécute les lignes suivantes :\n",
    "\n",
    "`print(\"Le nombre \",nombre,\" est positif.\")`\n",
    "\n",
    "`print(\"Sa valeur absolue est : \", nombre)`\n",
    "\n",
    "Ces instructions ne sont pas au même niveau que les lignes précédentes mais elles sont décalées vers la droite. On dit qu'elles sont **indentées** *i.e.* que l'on a commencé la ligne par une ***tabulation*** que l'on obtient en appuyant sur la touche à gauche de A sur le clavier.\n",
    "\n",
    "Cela a deux utilités :\n",
    "- C'est la façon dont Python comprend qu'il s'agit des instructions à exécuter lorsque le test est effectué. Ainsi on peut exécuter plusieurs lignes d'instructions consécutives si le test est réussi, il faut alors toutes les indentées de la même manière.\n",
    "- Il est plus simple et agréable de se repérer dans un code indenté surtout lorsqu'il y a plusieurs instructions de ce type à la suite ou imbriquées les unes dans les autres."
   ]
  },
  {
   "cell_type": "markdown",
   "metadata": {},
   "source": [
    "Dans le cas où la condition n'est pas vérifiée, *i.e.* que le nombre est strictement plus petit que 0, les instructions à exécuter ne sont pas les mêmes, elles sont alors indiquées par le mot clé `else` suivit de deux points **`:`** .\n",
    "Le mot clé `else` n'est pas indenté, il se trouve au même niveau que le `if`. Les instructions, elles, sont bien indentées de la même manière que précédemment :\n",
    "\n",
    "`print(\"Le nombre \",nombre,\" est négatif.\")`\n",
    "\n",
    "`print(\"Sa valeur absolue est : \", -nombre)`\n",
    "\n",
    "Il est à noter que la partie `else` n'est pas obligatoire. Dans les cas où on a rien à exécuter quand la condition n'est pas vérifiée, on ne marque que le `if(condition):`."
   ]
  },
  {
   "cell_type": "markdown",
   "metadata": {},
   "source": [
    "### Commentaires"
   ]
  },
  {
   "cell_type": "markdown",
   "metadata": {},
   "source": [
    "Remarquez aussi la partie de code : `# Ces deux lignes sont exécutées lorque 'nombre' est plus grand que 0`\n",
    "Il s'agit d'un **commentaire**. C'est donc une partie du code qui n'est pas pris en compte par Python. Les commentaires permettent de clarifier ou d'expliquer une partie du code et permet de se retrouver plus facilement dans son code.\n",
    "Les commentaires commencent toujours par le signe `#` et s'étendent jusqu'à la fin de la ligne."
   ]
  },
  {
   "cell_type": "markdown",
   "metadata": {},
   "source": [
    "### Syntaxe des conditions."
   ]
  },
  {
   "cell_type": "markdown",
   "metadata": {},
   "source": [
    "Les conditions que l'on peut mettre dans l'instruction `if` peuvent prendre les formes usuelles de test sur les nombres mais ont une syntaxe particulière en Python qui est résumée par le tableau suivant :\n",
    "\n",
    "![Syntaxe conditions Python](./images/TestsPython.png)"
   ]
  },
  {
   "cell_type": "markdown",
   "metadata": {},
   "source": [
    "## **Exercices**"
   ]
  },
  {
   "cell_type": "markdown",
   "metadata": {},
   "source": [
    "### Exercice 1 - Tarif jeune"
   ]
  },
  {
   "cell_type": "markdown",
   "metadata": {},
   "source": [
    "Afin de mettre en place un système de caisses automatiques, le directeur du cinéma ''Atlantique Mega Screen'' vous demande de coder un programme demandant au client son âge, et lui annonçant en retour le tarif appliqué :\n",
    "- moins de 18 ans : 4€.\n",
    "- sinon : 7€.\n"
   ]
  },
  {
   "cell_type": "code",
   "execution_count": null,
   "metadata": {},
   "outputs": [],
   "source": [
    "age = int(input(\"Quel âge avez-vous ? \"))\n",
    "# Compléter le programme :\n",
    "if(  ):\n",
    "    print(\"Tarif jeune : 4€\")\n",
    "else :\n",
    "    print(\"Tarif normal : 7€\")"
   ]
  },
  {
   "cell_type": "markdown",
   "metadata": {},
   "source": [
    "Le directeur cinéma décide de changer les prix pour ajouter une catégorie intermédiaire, la grille tarifaire est alors la suivante :\n",
    "- moins de 18 ans : 4€\n",
    "- de 18 à 25 ans : 5€\n",
    "- sinon : 7€\n",
    "Compléter alors le programme suivant pour prendre en compte le nouveau tarif."
   ]
  },
  {
   "cell_type": "code",
   "execution_count": null,
   "metadata": {},
   "outputs": [],
   "source": [
    "age = int(input(\"Quel âge avez-vous ? \"))\n",
    "# Compléter le programme :\n",
    "if(  ):\n",
    "    print(\"Tarif jeune : 4€\")\n",
    "elif(  ):\n",
    "    print(\"Tarif étudiant : 5€\")\n",
    "else :\n",
    "    print(\"Tarif normal : 7€\")"
   ]
  },
  {
   "cell_type": "markdown",
   "metadata": {},
   "source": [
    "*Indice* : L'instruction `elif` (Contraction de *Else If* - *Sinon Si*) permet de refaire un test alors que le premier n'a pas été vérifié. Cela permet de traiter plus de deux cas. On peut ajouter autant de `elif` que l'on souhaite.\n",
    "Cette instruction se termine elle aussi avec deux points **`:`**\n",
    "\n",
    "![Sinon Si](./images/PCSinonSi.png)"
   ]
  },
  {
   "cell_type": "markdown",
   "metadata": {},
   "source": [
    "### Exercice 2 - Le bon nombre"
   ]
  },
  {
   "cell_type": "markdown",
   "metadata": {},
   "source": [
    "Compléter le code ci-dessous qui demande d'entrer un nombre entre 1 et 10 et qui vérifie si il s'agit du nombre inconnu tiré aléatoirement par l'ordinateur."
   ]
  },
  {
   "cell_type": "code",
   "execution_count": null,
   "metadata": {},
   "outputs": [],
   "source": [
    "from random import randint                      # Permet de tirer des nombres au hasard\n",
    "nombre_inconnu = randint(1,10)                  # Choisit un nombre entre 1 et 10 compris aléatoirement\n",
    "nombre_choisi = int(input(\"Choisir un nombre entier entre 1 et 10 : \"))\n",
    "\n",
    "# Compléter le programme :\n",
    "if(  ):\n",
    "    print(\"Bravo, tu as trouvé le nombre inconnu : \", nombre_inconnu)\n",
    "else:\n",
    "    print(\"Dommage, le nombre inconnu était : \", nombre_inconnu)"
   ]
  },
  {
   "cell_type": "markdown",
   "metadata": {},
   "source": [
    "### Exercice 3 - Nombre pair ou impair"
   ]
  },
  {
   "cell_type": "markdown",
   "metadata": {},
   "source": [
    "Écrire un programme Python qui permet de savoir si un nombre entier est pair ou impair."
   ]
  },
  {
   "cell_type": "code",
   "execution_count": null,
   "metadata": {},
   "outputs": [],
   "source": [
    "nombre = int(input(\"Entrez un nombre : \"))\n",
    "# Écrire le programme ci-dessous\n"
   ]
  },
  {
   "cell_type": "markdown",
   "metadata": {},
   "source": [
    "*Indication* : L'opération *modulo*, notée `%` en Python, permet de déterminer le reste de la dicision eucidienne par un nombre. Ainsi, le code `a%2` permet de calculer le reste de la division euclidienne de `a` par 2. Si le reste est 0, `a` est alors un multiple de 2."
   ]
  },
  {
   "cell_type": "markdown",
   "metadata": {},
   "source": [
    "### Exercice 4 - Maximum et Minimum"
   ]
  },
  {
   "cell_type": "markdown",
   "metadata": {},
   "source": [
    "Écrire un programme Python qui permet de déterminer le maximum et le minimum de deux nombres `a` et `b` demandés.\n",
    "On ferra en sorte que le maximum et le minimum soient les nombres contenus dans les variables `maximum` et `minimum`"
   ]
  },
  {
   "cell_type": "code",
   "execution_count": null,
   "metadata": {},
   "outputs": [],
   "source": [
    "a = int(input(\"Entrez le nombre a : \"))\n",
    "b = int(input(\"Entrez le nombre b : \"))\n",
    "maximum = None          # maximum et minimum sont mis à 'None' car on ne connait pas encore leurs valeurs.\n",
    "minimum = None\n",
    "# Compléter le code ci-dessous\n",
    "\n",
    "\n",
    "\n",
    "# Fin du code.\n",
    "print(\"Le maximum des deux nombres entrés est : \", maximum)\n",
    "print(\"Le minimum des deux nombres entrés est : \", minimum)"
   ]
  },
  {
   "cell_type": "markdown",
   "metadata": {},
   "source": [
    "### Exercice 5 - Bataille navale"
   ]
  },
  {
   "cell_type": "markdown",
   "metadata": {},
   "source": [
    "La grille ci-dessous est composée de 5 lignes et 5 colonnes.\n",
    "Un bateau est situé en 4, 2 : colonne 4 et ligne 2, ou dans une case de votre choix.\n",
    "Le joueur ne sait pas où se trouve le bateau et cherche à l'atteindre en tirant un boulet de canon.\n",
    "Écrire un programme qui demande au joueur de choisir une colonne, puis une ligne et lui répond :\n",
    "\n",
    "- **Touché**, si le joueur a trouvé la case du bateau.\n",
    "- **En vue**, si le joueur a choisi une case sur la même ligne ou la même colonne que le bateau.\n",
    "- **A l'eau**, sinon : le boulet tombe à l'eau.\n",
    "\n",
    "![Bataille navale](./images/ToucheCoule.png)\n"
   ]
  },
  {
   "cell_type": "code",
   "execution_count": null,
   "metadata": {},
   "outputs": [],
   "source": [
    "ligne_bateau = 2\n",
    "colonne_bateau = 4\n",
    "ligne_joueur = int(input(\"Quelle ligne ?\"))\n",
    "colonne_joueur = int(input(\"Quelle colonne ?\"))\n",
    "# Écrire le programme ci-dessous.\n",
    "\n"
   ]
  },
  {
   "cell_type": "markdown",
   "metadata": {},
   "source": [
    "*Indication* : Il est possible de mettre des instructions Si...Alors à l'intérieur d'instructions Si...Alors :\n",
    "\n",
    "![Conditions imbriquées](./images/PCSiImbriques.png)\n",
    "\n",
    "On indentera bien à chaque fois que cela est nécessaire."
   ]
  },
  {
   "cell_type": "markdown",
   "metadata": {},
   "source": [
    "### Exercice 6 - Maximum et Minimum de trois nombres"
   ]
  },
  {
   "cell_type": "markdown",
   "metadata": {},
   "source": [
    "Écrire un programme Python qui permet de déterminer le maximum et le minimum de trois nombres `a` `b` et `c` demandés.\n",
    "On ferra en sorte que le maximum et le minimum soient les nombres contenus dans les variables `maximum` et `minimum`"
   ]
  },
  {
   "cell_type": "code",
   "execution_count": null,
   "metadata": {},
   "outputs": [],
   "source": [
    "a = int(input(\"Entrez le nombre a : \"))\n",
    "b = int(input(\"Entrez le nombre b : \"))\n",
    "c = int(input(\"Entrez le nombre c : \"))\n",
    "maximum = None          # maximum et minimum sont mis à 'None' car on ne connait pas encore leurs valeurs.\n",
    "minimum = None\n",
    "# Compléter le code ci-dessous\n",
    "\n",
    "\n",
    "\n",
    "# Fin du code.\n",
    "print(\"Le maximum des trois nombres entrés est : \", maximum)\n",
    "print(\"Le minimum des trois nombres entrés est : \", minimum)"
   ]
  },
  {
   "cell_type": "code",
   "execution_count": null,
   "metadata": {},
   "outputs": [],
   "source": []
  }
 ],
 "metadata": {
  "kernelspec": {
   "display_name": "Python 3",
   "language": "python",
   "name": "python3"
  },
  "language_info": {
   "codemirror_mode": {
    "name": "ipython",
    "version": 3
   },
   "file_extension": ".py",
   "mimetype": "text/x-python",
   "name": "python",
   "nbconvert_exporter": "python",
   "pygments_lexer": "ipython3",
   "version": "3.6.8"
  }
 },
 "nbformat": 4,
 "nbformat_minor": 2
}
